{
 "cells": [
  {
   "cell_type": "markdown",
   "id": "996528eb",
   "metadata": {},
   "source": [
    "# Adding and Removing Components\n",
    "\n",
    "This tutorial demonstrates how to add and remove nodes from the killweb.  "
   ]
  },
  {
   "cell_type": "code",
   "execution_count": null,
   "id": "0934aa31",
   "metadata": {},
   "outputs": [],
   "source": [
    "import os\n",
    "%matplotlib widget\n",
    "\n",
    "from mimik.killweb import Killweb"
   ]
  },
  {
   "cell_type": "markdown",
   "id": "22815786",
   "metadata": {},
   "source": [
    "Initialize an empty killweb."
   ]
  },
  {
   "cell_type": "code",
   "execution_count": null,
   "id": "72c94fc0",
   "metadata": {},
   "outputs": [],
   "source": [
    "killweb = Killweb(silent=True)"
   ]
  },
  {
   "cell_type": "markdown",
   "id": "0798b73b",
   "metadata": {},
   "source": [
    "Define the first component to add to the killweb and visualize."
   ]
  },
  {
   "cell_type": "code",
   "execution_count": null,
   "id": "2cc1e2e8",
   "metadata": {},
   "outputs": [],
   "source": [
    "killweb.add_new_component(\"Find1\")\n",
    "killweb.create_component_networkx_visualization();"
   ]
  },
  {
   "cell_type": "markdown",
   "id": "3df54415",
   "metadata": {},
   "source": [
    "Define the second component and add to the graph.  Use the *from_components* argument to define a list of nodes that connect to the new component."
   ]
  },
  {
   "cell_type": "code",
   "execution_count": null,
   "id": "4343f42f",
   "metadata": {},
   "outputs": [],
   "source": [
    "killweb.add_new_component(\"Fix1\", from_components = ['Find1'])\n",
    "killweb.create_component_networkx_visualization();"
   ]
  },
  {
   "cell_type": "markdown",
   "id": "3c185e5b",
   "metadata": {},
   "source": [
    "Add a new find component that connects to Fix1.  Use the *to_components* arguement to define the list of connected components."
   ]
  },
  {
   "cell_type": "code",
   "execution_count": null,
   "id": "84e3f856",
   "metadata": {},
   "outputs": [],
   "source": [
    "killweb.add_new_component(\"Find2\", to_components = ['Fix1'])\n",
    "killweb.create_component_networkx_visualization();"
   ]
  },
  {
   "cell_type": "markdown",
   "id": "5d441fa5",
   "metadata": {},
   "source": [
    "Add the rest of the components."
   ]
  },
  {
   "cell_type": "code",
   "execution_count": null,
   "id": "f4f3ed90",
   "metadata": {
    "scrolled": true
   },
   "outputs": [],
   "source": [
    "killweb.add_new_component(\"Fix2\", from_components = [\"Find1\", \"Find2\"])\n",
    "killweb.add_new_component(\"Track1\", from_components = [\"Fix1\", \"Fix2\"])\n",
    "killweb.add_new_component(\"Track2\", from_components = [\"Fix1\", \"Fix2\"])\n",
    "killweb.add_new_component(\"Target\", from_components = [\"Track1\", \"Track2\"])\n",
    "killweb.create_component_networkx_visualization();"
   ]
  },
  {
   "cell_type": "markdown",
   "id": "2a9aec57",
   "metadata": {},
   "source": [
    "Components can be removed from the graph.  The cell below lists the components in the graph.  The next cell removes the 'Target\" component from the graph and prints the new list of components."
   ]
  },
  {
   "cell_type": "code",
   "execution_count": null,
   "id": "9d75cb80",
   "metadata": {},
   "outputs": [],
   "source": [
    "killweb.component_graph.nodes()"
   ]
  },
  {
   "cell_type": "code",
   "execution_count": null,
   "id": "0e986e09",
   "metadata": {},
   "outputs": [],
   "source": [
    "killweb.remove_component(\"Target\")\n",
    "killweb.component_graph.nodes()"
   ]
  },
  {
   "cell_type": "markdown",
   "id": "a5ef7d9c",
   "metadata": {},
   "source": [
    "Edges can be added to and removed from the graph to connect components.  The cell below adds an edge from 'Find1' to 'Track1'.  The following cell demonstrates how to remove this edge."
   ]
  },
  {
   "cell_type": "code",
   "execution_count": null,
   "id": "b6805426",
   "metadata": {},
   "outputs": [],
   "source": [
    "killweb.add_new_edge('Find1', 'Track1')\n",
    "killweb.create_component_networkx_visualization();"
   ]
  },
  {
   "cell_type": "code",
   "execution_count": null,
   "id": "baa54fa6",
   "metadata": {},
   "outputs": [],
   "source": [
    "killweb.remove_edge('Find1', 'Track1')\n",
    "killweb.create_component_networkx_visualization();"
   ]
  }
 ],
 "metadata": {
  "kernelspec": {
   "display_name": "Python 3 (ipykernel)",
   "language": "python",
   "name": "python3"
  },
  "language_info": {
   "codemirror_mode": {
    "name": "ipython",
    "version": 3
   },
   "file_extension": ".py",
   "mimetype": "text/x-python",
   "name": "python",
   "nbconvert_exporter": "python",
   "pygments_lexer": "ipython3",
   "version": "3.11.0"
  }
 },
 "nbformat": 4,
 "nbformat_minor": 5
}
