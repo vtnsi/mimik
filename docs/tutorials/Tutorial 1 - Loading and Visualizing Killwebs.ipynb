{
 "cells": [
  {
   "cell_type": "markdown",
   "id": "5bc11223",
   "metadata": {},
   "source": [
    "# Loading and Visualizing Killwebs\n",
    "\n",
    "This tutorial demonstrates how to use MIMIK to load and visualize killwebs."
   ]
  },
  {
   "cell_type": "code",
   "execution_count": null,
   "id": "ed1a3353",
   "metadata": {},
   "outputs": [],
   "source": [
    "# import modules\n",
    "import os\n",
    "import json\n",
    "%matplotlib widget\n",
    "\n",
    "from mimik.killweb import Killweb"
   ]
  },
  {
   "cell_type": "markdown",
   "id": "b36a3741",
   "metadata": {},
   "source": [
    "## Loading from json file\n",
    "\n",
    "A MIMIK killweb can be loaded from a JSON configuration file.  A example of simple killweb configuration file is displayed below.\n",
    "\n",
    "The first keyword defines the name of the killweb - *simple_killweb*.  At the second level, each keyword defines a component of the system - *Find1, Fix1, Track1, Find2, Fix2, Track2*.  A *connected_component* keyword is defined for each component and indicates the outgoing edges of the killweb graph.  Attributes can be added to the component using the *attributes* keyword.  In this example, the attribute is the position of each node defined by x and y. "
   ]
  },
  {
   "cell_type": "code",
   "execution_count": null,
   "id": "0a1cf45d",
   "metadata": {},
   "outputs": [],
   "source": [
    "# config filename\n",
    "config_filename = \"simple_killweb.json\"\n",
    "configs_pth = os.path.join('configs', config_filename)\n",
    "\n",
    "with open(configs_pth, 'r') as f:\n",
    "        killweb_configs = json.load(f)\n",
    "print(json.dumps(killweb_configs, indent=4))"
   ]
  },
  {
   "cell_type": "markdown",
   "id": "2d6cbeb7",
   "metadata": {},
   "source": [
    "The cell below initializes the MIMIK killweb class.  The first arguement is the working directory that contains the configs directory (more directories will be added in later tutorials).  The second argument is the path to the configs file. The third arguement is optional and puts the killweb class in silent mode, which suppressess some warnings.  "
   ]
  },
  {
   "cell_type": "code",
   "execution_count": null,
   "id": "97c1d841",
   "metadata": {},
   "outputs": [],
   "source": [
    "killweb = Killweb(working_dir=os.getcwd(), config_file=configs_pth, silent=True)"
   ]
  },
  {
   "cell_type": "markdown",
   "id": "f8827113",
   "metadata": {},
   "source": [
    "The killweb is visualized below."
   ]
  },
  {
   "cell_type": "code",
   "execution_count": null,
   "id": "02517699",
   "metadata": {},
   "outputs": [],
   "source": [
    "killweb.create_component_networkx_visualization();"
   ]
  }
 ],
 "metadata": {
  "kernelspec": {
   "display_name": ".venv",
   "language": "python",
   "name": "python3"
  },
  "language_info": {
   "codemirror_mode": {
    "name": "ipython",
    "version": 3
   },
   "file_extension": ".py",
   "mimetype": "text/x-python",
   "name": "python",
   "nbconvert_exporter": "python",
   "pygments_lexer": "ipython3",
   "version": "3.11.0"
  },
  "nbdime-conflicts": {
   "local_diff": [
    {
     "key": "kernelspec",
     "op": "add",
     "value": {
      "display_name": "Python 3 (ipykernel)",
      "language": "python",
      "name": "python3"
     }
    }
   ],
   "remote_diff": [
    {
     "key": "kernelspec",
     "op": "add",
     "value": {
      "display_name": ".venv",
      "language": "python",
      "name": "python3"
     }
    }
   ]
  }
 },
 "nbformat": 4,
 "nbformat_minor": 5
}
