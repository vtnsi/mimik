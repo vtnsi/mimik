{
 "cells": [
  {
   "cell_type": "markdown",
   "id": "ddd69ac5",
   "metadata": {},
   "source": [
    "# Tasks and Simulation\n",
    "\n",
    "MIMIK can be used to calculate the probability of a succcess and other metrics on the killweb.  In order to do this, a task must be defined for each component in the killweb.  This tutorial outlines the Task class in MIMIK and demonstrates the Monte Carlo simulation capability."
   ]
  },
  {
   "cell_type": "code",
   "execution_count": null,
   "id": "0d6a27dc",
   "metadata": {},
   "outputs": [],
   "source": [
    "import os\n",
    "import json\n",
    "%matplotlib widget\n",
    "\n",
    "from mimik.killweb import Killweb"
   ]
  },
  {
   "cell_type": "markdown",
   "id": "37a4326a",
   "metadata": {},
   "source": [
    "## Custom Tasks\n",
    "\n",
    "The task is an attribute of each node in the component graph.  MIMIK provides an abstract Task class.  Each task will need to be created by the user.  The *forward* method in the Task class returns a probability of success. The user must create a function to produce the probability of success, which can be an estimated value (e.g., the probability of finding a target is 0.90 or 90%), a probability randomly sampled from a distribution such as a Normal distribution of past performance, or a custom function provided by the user. The Task classes are required to be in the *tasks* directory.\n",
    "\n",
    "The *tasks* directory is used by MIMIK to create a TaskFactory which searches for classes inheriting the *AbstractTask* class of MIMIK. Example classes used in this tutorial are provided in the docs/tutorials/tasks directory. There are two key things to note about creating a custom task. The first is that the task class must inherit from *AbstractClass* as previously mentioned. The second is that the task must include a *forward()* function which returns the probability the task succeeds. Any number of helper functions, classes, or libraries can be used to calculate the probability of a task, and more advanced examples can be found in the *examples* directory.\n",
    "\n",
    "The task associated with each component is defined in the JSON configs file as an attribute of the component.  The attribute contains the name of each Task and the arguments for each task.  The JSON for this tutorial is displayed below. The only task argument for this simple tutorial is the probability of success for each task."
   ]
  },
  {
   "cell_type": "code",
   "execution_count": null,
   "id": "8847ba0b",
   "metadata": {},
   "outputs": [],
   "source": [
    "# config filename\n",
    "config_filename = \"killweb_w_tasks.json\"\n",
    "configs_pth = os.path.join('configs', config_filename)\n",
    "\n",
    "with open(configs_pth, 'r') as f:\n",
    "        killweb_configs = json.load(f)\n",
    "print(json.dumps(killweb_configs, indent=4))"
   ]
  },
  {
   "cell_type": "markdown",
   "id": "33c8ed60",
   "metadata": {},
   "source": [
    "## Monte Carlo Simulation\n",
    "\n",
    "MIMIK can perform Monte Carlo simulation over the killweb using the defined tasks.  "
   ]
  },
  {
   "cell_type": "code",
   "execution_count": null,
   "id": "8782cbc5",
   "metadata": {},
   "outputs": [],
   "source": [
    "killweb = Killweb(config_file=configs_pth, silent=True)"
   ]
  },
  {
   "cell_type": "markdown",
   "id": "720424ad",
   "metadata": {},
   "source": [
    "The *monte_carlo_on_paths()* method performs Monte Carlo simulation on each possible path through the killweb.  The argument for this method is the number of Monte Carlo simulations to run on each path.  For this example, we run Monte Carlo simulation 10 times on each path and print the results as a dictionary.  \n",
    "\n",
    "The first dictionary in the results displays the success of each event. A 1 indicates that the event was successful and the path continued. A 0 indicates that the event was not successful and the path failed.  The second dictionary displays the probability of success for each event in that run of the simulation."
   ]
  },
  {
   "cell_type": "code",
   "execution_count": null,
   "id": "7e767c51",
   "metadata": {},
   "outputs": [],
   "source": [
    "killweb.monte_carlo_on_paths(10)\n",
    "mc_results = killweb.get_monte_carlo_results()\n",
    "mc_results"
   ]
  },
  {
   "cell_type": "markdown",
   "id": "6a9d9599",
   "metadata": {},
   "source": [
    "The probability of success for each path can be printed using the *print_probabilities_of_paths()* method.  This method also prints the average number of successful events over the simulation.  "
   ]
  },
  {
   "cell_type": "code",
   "execution_count": null,
   "id": "0cd7fb4b",
   "metadata": {},
   "outputs": [],
   "source": [
    "killweb.print_probabilities_of_paths()"
   ]
  },
  {
   "cell_type": "markdown",
   "id": "61d3b7a6",
   "metadata": {},
   "source": [
    "The probability of success and the average number of successful events for each path can be extracted from MIMIK for use in other analysis."
   ]
  },
  {
   "cell_type": "code",
   "execution_count": null,
   "id": "41b8a2d9",
   "metadata": {},
   "outputs": [],
   "source": [
    "probability_of_success = killweb.get_probabilities_of_paths()\n",
    "probability_of_success"
   ]
  },
  {
   "cell_type": "code",
   "execution_count": null,
   "id": "4ba64268",
   "metadata": {},
   "outputs": [],
   "source": [
    "avg_num_success_events = killweb.get_avg_number_success_events()\n",
    "avg_num_success_events"
   ]
  },
  {
   "cell_type": "markdown",
   "id": "651905cf",
   "metadata": {},
   "source": [
    "Individual paths can be analyzed using MIMIK.  In the cells below, the probability of success and the average number of successful events for the selected path are displayed. "
   ]
  },
  {
   "cell_type": "code",
   "execution_count": null,
   "id": "44a0e9ab",
   "metadata": {},
   "outputs": [],
   "source": [
    "path = [\"Find1\", \"Fix1\", \"Track1\"]"
   ]
  },
  {
   "cell_type": "code",
   "execution_count": null,
   "id": "6005e8fc",
   "metadata": {},
   "outputs": [],
   "source": [
    "killweb.print_proportion_complete(path)"
   ]
  },
  {
   "cell_type": "code",
   "execution_count": null,
   "id": "1afb5596",
   "metadata": {
    "scrolled": true
   },
   "outputs": [],
   "source": [
    "killweb.print_average_number_of_successes(path)"
   ]
  },
  {
   "cell_type": "markdown",
   "id": "71690f91",
   "metadata": {},
   "source": [
    "MIMIK can gernate figures for the results of the Monte Carlo simulation.  The distribution of successful events and the probabilities for each event are displayed below for the selected path."
   ]
  },
  {
   "cell_type": "code",
   "execution_count": null,
   "id": "e880ba55",
   "metadata": {},
   "outputs": [],
   "source": [
    "killweb.plot_monte_carlo_distribution(path)"
   ]
  }
 ],
 "metadata": {
  "kernelspec": {
   "display_name": "Python 3 (ipykernel)",
   "language": "python",
   "name": "python3"
  },
  "language_info": {
   "codemirror_mode": {
    "name": "ipython",
    "version": 3
   },
   "file_extension": ".py",
   "mimetype": "text/x-python",
   "name": "python",
   "nbconvert_exporter": "python",
   "pygments_lexer": "ipython3",
   "version": "3.11.0"
  }
 },
 "nbformat": 4,
 "nbformat_minor": 5
}
