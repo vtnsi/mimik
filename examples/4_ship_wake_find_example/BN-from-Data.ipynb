{
 "cells": [
  {
   "cell_type": "markdown",
   "id": "453ecb1d-f8e8-4851-b00c-c52302882041",
   "metadata": {},
   "source": [
    "# Bayesian Network from Data\n",
    "[//]: # (Summary)\n",
    "In this tutorial we are creating a Bayesian Network (BN) for the find task of a Kill Chain as shown in the figure below.\n",
    "\n",
    "![alt text](images/Ship-Wake-BN-Find.png)\n",
    "\n",
    "We will walk through the aspectes of a BN and then demonstrate creating one using a CSV file to learn the conditional probability tables which define the edges of the graph. Finally, we demonstrate how the BN task is incorporated in mimik's `Killweb` module.\n",
    "\n",
    "[//]: # (Objective)\n",
    "By the end of this tutorial you will understand how a BN is created using a defined graph and associated CSV data file, how to infer with that BN, and how to run the `Killweb` module with this Find BN task.\n",
    "\n",
    "This tutorial requires the Python package [pgmpy](https://pgmpy.org). Please ensure that pgmpy is installed by running the following command in a terminal with the mimik virtual environment active:\n",
    "```\n",
    "$ pip install pgmpy\n",
    "```\n",
    "Or, follow the [pgmpy installation instructions here.](https://pgmpy.org/started/base.html)"
   ]
  },
  {
   "cell_type": "code",
   "execution_count": null,
   "id": "405c659b-49ed-4ec3-b23f-7db93583af0e",
   "metadata": {},
   "outputs": [],
   "source": [
    "import json\n",
    "import warnings\n",
    "import pandas as pd\n",
    "import seaborn as sns\n",
    "from tasks.component_BN import ComponentBN\n",
    "from pgmpy.factors.discrete import TabularCPD\n",
    "from mimik.killweb import Killweb\n",
    "\n",
    "warnings.filterwarnings('ignore')"
   ]
  },
  {
   "cell_type": "markdown",
   "id": "92212017-f0a8-45fc-ad35-536e49353cbf",
   "metadata": {},
   "source": [
    "## Creating the Network\n",
    "\n",
    "### Edges\n",
    "\n",
    "Edges define the nodes and their relationship. For example, if there is a connection from node $\\alpha$ to $\\beta$ we specify that with a the tuple ( $\\alpha$ , $\\beta$ ).\n",
    "\n",
    "In this example, the success of a radar and sea sensing platform to perform the Find task, by detecting possible targets via their ship wake on the ocian surface, is affected by its radar band and the sea height and direction, so our edges are:\n",
    "- ('band', 'pred'),\n",
    "- ('sea_height', 'pred'),\n",
    "- ('sea_direction', 'pred'),\n",
    "\n",
    "Edges are set in an `edges` variable that is a list of tuples for all the edges in the network."
   ]
  },
  {
   "cell_type": "code",
   "execution_count": null,
   "id": "556c0493-720c-4e3c-bc34-c4bf598dc662",
   "metadata": {},
   "outputs": [],
   "source": [
    "edges = [\n",
    "    ('band', 'pred'),\n",
    "    ('sea_height', 'pred'),\n",
    "    ('sea_direction', 'pred')\n",
    "]"
   ]
  },
  {
   "cell_type": "markdown",
   "id": "89ca44db-aee4-45e3-9c47-3bc436ffd59c",
   "metadata": {},
   "source": [
    "### Data\n",
    "\n",
    "The data for this Bayesian network (BN) is stored in a csv file. The nodes listed above correspond to column names in the csv and must be spelled the same way. The cell below loads the data as a pandas dataframe. We can see that there are a lot more columns than the four we use for the nodes. This is fine, as long as we choose the most important features for the outcome and properly model their relationship."
   ]
  },
  {
   "cell_type": "code",
   "execution_count": null,
   "id": "22109bb8-6a42-4873-b3a4-378a0c4e8b50",
   "metadata": {},
   "outputs": [],
   "source": [
    "data = pd.read_csv(\"data/processed.csv\")\n",
    "data"
   ]
  },
  {
   "cell_type": "markdown",
   "id": "44f5401e-2b85-4368-8d02-0f1ada1b2d4a",
   "metadata": {},
   "source": [
    "The data for this example is based on using a deep learning model to identify persistent ship wakes in sythetic aperture radar (SAR) images of the ocean surface. The data is based on [this publication](https://doi.org/10.2514/6.2024-2056). The band refers to one of three bands (or freqeuncy range) for SAR satellites. The presence or absence of a persistent wake is also influence by the height of waves (sea height) and the orientation of ocean currents (sea direction)."
   ]
  },
  {
   "cell_type": "markdown",
   "id": "cc545dee-5ac9-495e-accc-de7e9c997a91",
   "metadata": {},
   "source": [
    "### Priors\n",
    "\n",
    "In certain situations, especially in cases where the dataset is small, we want to specify a prior distribution for the Bayesian network. We won't go into the details on what exactly a prior is or the role it plays in Bayesian statistics. Instead we should think of this as a way to hedge the probabilities the BN will learn from the data and include some additional uncertainty. \n",
    "\n",
    "In cases where only one or two data points exist for any particular combination of input nodes we can end up with an BN that is over- or under-confident of the results. For example, if we have test data with only one result for each combination of band, sea_height, and sea_direction the BN will learn conditional probabilties where the pred value is either 1 or 0. However, we don't want to make such a strong inference -- can we really say the outcome will always be 100% true from a single test? The following cell stores parameters for a simple uniform prior. Additional information on priors can be learned [from the pgmpy documentation](https://pgmpy.org/detailed_notebooks/10.%20Learning%20Bayesian%20Networks%20from%20Data.html#Bayesian-Parameter-Estimation), which is how we implement the BN. \n",
    "\n",
    "If you wish to simply ignore using a prior, set `estimator=\"MaximumLikelihood\"` and omit `prior_type` and `equivalent_sample_size` from the configs."
   ]
  },
  {
   "cell_type": "code",
   "execution_count": null,
   "id": "e5236b9b-1033-47ca-b6f3-be5a2fdde18f",
   "metadata": {},
   "outputs": [],
   "source": [
    "estimator = \"Bayesian\"\n",
    "prior_type = 'BDeu'\n",
    "equivalent_sample_size = 10"
   ]
  },
  {
   "cell_type": "markdown",
   "id": "9927954b-5ce6-42fb-a23e-830d6f79e743",
   "metadata": {},
   "source": [
    "### Constructing the BN"
   ]
  },
  {
   "cell_type": "markdown",
   "id": "33e70583-24e9-4a46-bab2-b388e5c55e1c",
   "metadata": {},
   "source": [
    "Finally, we create the BN using the `ComponentBN` class, which takes the edges, data, and prior distribution arguments as input to construct the BN."
   ]
  },
  {
   "cell_type": "code",
   "execution_count": null,
   "id": "8576e504-ecbe-4e96-9b9f-32d14716c501",
   "metadata": {},
   "outputs": [],
   "source": [
    "find_BN = ComponentBN(\n",
    "    edges=edges,\n",
    "    data=data,\n",
    "    estimator=estimator,\n",
    "    prior_type=prior_type,\n",
    "    equivalent_sample_size=equivalent_sample_size\n",
    ")"
   ]
  },
  {
   "cell_type": "markdown",
   "id": "6eda6b72-dd11-4723-bde7-2c0556af3106",
   "metadata": {},
   "source": [
    "We can visualize the network by calling the `draw_network` method."
   ]
  },
  {
   "cell_type": "code",
   "execution_count": null,
   "id": "d64b8ba0-4630-4f5d-a868-d6030fbe8cac",
   "metadata": {},
   "outputs": [],
   "source": [
    "find_BN.draw_network()"
   ]
  },
  {
   "cell_type": "markdown",
   "id": "9a3b4e96-27be-4478-b1f1-fac7bb66e749",
   "metadata": {},
   "source": [
    "## Using the BN\n",
    "\n",
    "### Inference Probability of Success\n",
    "\n",
    "Given some evidence, `band=\"C\"`, `sea_height=0.5`, and `sea_direction=\"Head\"`, we can get the associated probability table for the Find node by calling the `get_infer` method:"
   ]
  },
  {
   "cell_type": "code",
   "execution_count": null,
   "id": "5c23885d-75e1-4727-a03a-b73e8e7cb5b7",
   "metadata": {},
   "outputs": [],
   "source": [
    "query = find_BN.get_infer(\n",
    "    evidence={\n",
    "        \"band\": \"C\",\n",
    "        \"sea_height\": 0.5,\n",
    "        \"sea_direction\": \"Head\"\n",
    "    },\n",
    "    variables=[\"pred\"]\n",
    ")\n",
    "print(query)"
   ]
  },
  {
   "cell_type": "markdown",
   "id": "f5f469db-a7da-4de7-92f9-bc25973d608f",
   "metadata": {},
   "source": [
    "We can also get just the probability of success using the `get_prob_success` method and providing the evidence and desired outcome `pred=1`: "
   ]
  },
  {
   "cell_type": "code",
   "execution_count": null,
   "id": "2dddd051-ea5a-4124-843f-d1638d41f6da",
   "metadata": {},
   "outputs": [],
   "source": [
    "find_BN.get_prob_success(\n",
    "    evidence={\n",
    "        \"band\": \"C\",\n",
    "        \"sea_height\": 0.5,\n",
    "        \"sea_direction\": \"Head\"\n",
    "    },\n",
    "    pred=1\n",
    ")"
   ]
  },
  {
   "cell_type": "markdown",
   "id": "7e5b7968-dd51-4896-bbd6-6c7fad3895ad",
   "metadata": {},
   "source": [
    "### Sampling\n",
    "\n",
    "While the above inference provides the probability of success, 1, (or failure, 0), the Monte Carlo simulation in MIMIK requires random sampling from the probability of outcomes for the Find node. This is done through the `get_sample` method, which does return a pandas data frame, but we can just look at the outcome. Given the high probability of success and the low sample size, the outcome is mostly likely 1."
   ]
  },
  {
   "cell_type": "code",
   "execution_count": null,
   "id": "a9e93474-8d92-4153-ad60-ff63baba1bcc",
   "metadata": {},
   "outputs": [],
   "source": [
    "%%capture --no-stderr\n",
    "df = find_BN.get_sample(\n",
    "    evidence={\n",
    "        \"band\": \"C\",\n",
    "        \"sea_height\": 0.5,\n",
    "        \"sea_direction\": \"Head\"\n",
    "    },\n",
    "    size=1\n",
    ")\n",
    "df"
   ]
  },
  {
   "cell_type": "markdown",
   "id": "64655b61-0914-45c8-b61d-c7852821fbb5",
   "metadata": {},
   "source": [
    "We can just grab the value of `pred` for the sample generated above."
   ]
  },
  {
   "cell_type": "code",
   "execution_count": null,
   "id": "444c47c0-2ecd-4eee-b369-12e18e077282",
   "metadata": {},
   "outputs": [],
   "source": [
    "df[\"pred\"].values[0]"
   ]
  },
  {
   "cell_type": "markdown",
   "id": "eb43f25e-c104-4301-90df-07635e846f50",
   "metadata": {},
   "source": [
    "If we increase the sample `size` we can get enough results to see failures and can plot a histogram of the results to visualize the ratio of success to failure."
   ]
  },
  {
   "cell_type": "code",
   "execution_count": null,
   "id": "740112a8-44e6-4193-a665-f490f14915ca",
   "metadata": {},
   "outputs": [],
   "source": [
    "%%capture --no-stderr\n",
    "results = find_BN.get_sample(\n",
    "    evidence={\n",
    "        \"band\": \"C\",\n",
    "        \"sea_height\": 0.5,\n",
    "        \"sea_direction\": \"Head\"\n",
    "    },\n",
    "    size=100_000\n",
    ")[\"pred\"]"
   ]
  },
  {
   "cell_type": "code",
   "execution_count": null,
   "id": "c89157e6-7f64-49d8-bd1e-40aefbeee8d8",
   "metadata": {},
   "outputs": [],
   "source": [
    "print(results.value_counts())\n",
    "\n",
    "sns.histplot(results.values);"
   ]
  },
  {
   "cell_type": "markdown",
   "id": "2c012588-64eb-40e8-996d-bd51df2f3614",
   "metadata": {},
   "source": [
    "If we change the evidence for band to \"S\" and sea direction to \"Calm\", we can see that the probability of success drops significantly. By constructing and using BNs in mimik we can account for changes in conditions like this when modeling Killwebs."
   ]
  },
  {
   "cell_type": "code",
   "execution_count": null,
   "id": "32b0aedd-fe4e-4a01-b95d-6ecc7bc19507",
   "metadata": {},
   "outputs": [],
   "source": [
    "%%capture --no-stderr\n",
    "results = find_BN.get_sample(\n",
    "    evidence={\n",
    "        \"band\": \"S\",\n",
    "        \"sea_height\": 0.5,\n",
    "        \"sea_direction\": \"Calm\"\n",
    "    },\n",
    "    size=100_000\n",
    ")[\"pred\"]"
   ]
  },
  {
   "cell_type": "code",
   "execution_count": null,
   "id": "b613faf5-7f2e-4740-a91e-62e2c3b94fb7",
   "metadata": {},
   "outputs": [],
   "source": [
    "print(results.value_counts())\n",
    "\n",
    "sns.histplot(results.values);"
   ]
  },
  {
   "cell_type": "markdown",
   "id": "504f1ed6-6a68-4be7-a856-daa09d9fd70b",
   "metadata": {},
   "source": [
    "## JSON Configs\n",
    "\n",
    "This is the json configuration for this Bayesian network. Because it's constant for any similar Find task node in the Killweb we save this configuration in its own file in the `configs/` directory. This type of configuration is how users can create their own custom BN for new Killwebs. Each type of BN node will have its own json config file, separate from the Killweb config file. More details for the configuration files are discussed in the enxt section. This section is just to demonstrate what the BN configs looks like and how it compares to the construction we did in the previous section."
   ]
  },
  {
   "cell_type": "code",
   "execution_count": null,
   "id": "80d3a940-9af7-4b30-bd57-7394ca190150",
   "metadata": {},
   "outputs": [],
   "source": [
    "text = \"\"\"\n",
    "{\n",
    "    \"edges\": [\n",
    "        [\"band\", \"pred\"],\n",
    "        [\"sea_height\", \"pred\"],\n",
    "        [\"sea_direction\", \"pred\"]\n",
    "    ],\n",
    "    \"data\": \"data/processed.csv\",\n",
    "    \"CPDs\": null,\n",
    "    \"estimator\": \"Bayesian\",\n",
    "    \"prior_type\": \"BDeu\",\n",
    "    \"equivalent_sample_size\": 10\n",
    "}\n",
    "\"\"\""
   ]
  },
  {
   "cell_type": "markdown",
   "id": "a8c27481-c285-49aa-9b05-b3a6f12c23ca",
   "metadata": {},
   "source": [
    "We can load the text above and provide it to the `ComponentBN` class to create the Find task node. Then we rerun the `draw_network` and `get_infer` methods to demonstrate the BN is the same as the one we created in the previous section."
   ]
  },
  {
   "cell_type": "code",
   "execution_count": null,
   "id": "94aade6a-8595-4c7f-9c17-94a0977b5f65",
   "metadata": {},
   "outputs": [],
   "source": [
    "data = json.loads(text)\n",
    "\n",
    "find_BN = ComponentBN(**data)"
   ]
  },
  {
   "cell_type": "code",
   "execution_count": null,
   "id": "1e72f3d1-492f-4029-ac78-138457d94f3c",
   "metadata": {},
   "outputs": [],
   "source": [
    "find_BN.draw_network()"
   ]
  },
  {
   "cell_type": "code",
   "execution_count": null,
   "id": "74e45592-4381-456c-8918-c3640c886e18",
   "metadata": {},
   "outputs": [],
   "source": [
    "q = find_BN.get_infer(\n",
    "    evidence={\n",
    "        \"band\": \"C\",\n",
    "        \"sea_height\": 0.5,\n",
    "        \"sea_direction\": \"Head\"\n",
    "    },\n",
    "    variables=[\"pred\"]\n",
    ")\n",
    "print(q)"
   ]
  },
  {
   "cell_type": "markdown",
   "id": "82306dd0-d5d1-46c0-baf3-255de64d5bae",
   "metadata": {},
   "source": [
    "## Using the Killweb Module\n",
    "\n",
    "All of the above setup and sampling of outcomes is automoated by the `Killweb` module in mimik. All the user needs to provide are the json configs for the Killweb and the associated Bayesian network tasks. For this tutorial, the correct configurations are already set up in the `configs` subdirectory. All we have to do is specify this working directory (`.`) and the main config file `configs/bn_killchain.json` (\"killchain\" becuase this tutorial only has a single path). The `task_arguments` for this Find task node must include the absolute path to the BN config file. We must also specify the name of the `outcome` node and the success `condition` so the `BN.get_sample` method can be called correctly during the Monte Carlo simulation. The remaining arguments under `task_arguments` are the evidence that are used for the inference and sampling.\n",
    "\n",
    "```json\n",
    "\"task_arguments\": {\n",
    "    \"BN_config\": \"/absolute/path/to/mimik/ship_wake_find_task/configs/find_simple.json\",\n",
    "    \"outcome\": \"pred\",\n",
    "    \"condition\": 1,\n",
    "    \"band\": \"C\",\n",
    "    \"sea_height\": 0.5,\n",
    "    \"sea_direction\": \"Head\"\n",
    "}\n",
    "```\n",
    "\n",
    "The killweb module is called by specifying the working directory of this example case and the path from there to the killchain config file."
   ]
  },
  {
   "cell_type": "code",
   "execution_count": null,
   "id": "0089f351-70af-469c-9257-5462a5a52ef4",
   "metadata": {},
   "outputs": [],
   "source": [
    "killweb = Killweb(\n",
    "    working_dir=\".\",\n",
    "    config_file=\"configs/bn_killchain.json\",\n",
    ")"
   ]
  },
  {
   "cell_type": "markdown",
   "id": "57e56951-5263-4c77-84f2-153dce85cdd6",
   "metadata": {},
   "source": [
    "The data is read and confirmed that the configs are in valid json format. Next we can print all the paths through the killweb (there will be only one path in this tutorial -- \"Radar_1, Sensor_1, Track Algorithm_1, Equation_1, Missle_1, Personnel_1\"), and then run the Monte Carlo simulation with 1,000 iterations."
   ]
  },
  {
   "cell_type": "code",
   "execution_count": null,
   "id": "0886f73e-5d47-4572-8ee6-1f95094a1e79",
   "metadata": {},
   "outputs": [],
   "source": [
    "killweb.print_all_paths_in_killweb()"
   ]
  },
  {
   "cell_type": "code",
   "execution_count": null,
   "id": "80121a87-fd2c-49fd-9d60-26eaad287e6d",
   "metadata": {},
   "outputs": [],
   "source": [
    "%%capture --no-stderr\n",
    "killweb.monte_carlo_on_paths(1000)"
   ]
  },
  {
   "cell_type": "markdown",
   "id": "292232d1-8f06-4be5-82b9-2557acf7249a",
   "metadata": {},
   "source": [
    "Now that the Monte Carlo is complete, we can print the probabilities of success for the path in the killchain:"
   ]
  },
  {
   "cell_type": "code",
   "execution_count": null,
   "id": "3f9318f8-0e2b-4af8-a279-a56cabb44c7d",
   "metadata": {},
   "outputs": [],
   "source": [
    "killweb.print_probabilities_of_paths(1)"
   ]
  },
  {
   "cell_type": "markdown",
   "id": "1da16ca9-3c2f-4d75-aa23-af186fa0d67b",
   "metadata": {},
   "source": [
    "In cases where there are more than one path in the Killweb, we can specify the path to test and get its probability of success as the proportion of time it sucessfully complete:"
   ]
  },
  {
   "cell_type": "code",
   "execution_count": null,
   "id": "446cf5f8-a5f9-4743-87ed-240e44097aa3",
   "metadata": {},
   "outputs": [],
   "source": [
    "path_to_test = [\"Radar_1\", \"Sensor_1\", \"Track Algorithm_1\", \"Equation_1\", \"Missle_1\", \"Personnel_1\"]\n",
    "killweb.print_proportion_complete(path_to_test)"
   ]
  },
  {
   "cell_type": "markdown",
   "id": "50b38406-f716-46ba-9063-01bc1d9ecaf8",
   "metadata": {},
   "source": [
    "For a specific path, we can also plot the distribution of outcomes for each node as both a proportion of binary success using the `killweb.plot_monte_carlo_distribution` method or as the histogram of actual probabilities of success using the `killweb.plot_probability_distribution` method. Not that for the `killweb.plot_probability_distribution`, becuase all the probabilities are high it will look like outcomes are either 1.0 or 0."
   ]
  }
 ],
 "metadata": {
  "kernelspec": {
   "display_name": "Python 3 (ipykernel)",
   "language": "python",
   "name": "python3"
  },
  "language_info": {
   "codemirror_mode": {
    "name": "ipython",
    "version": 3
   },
   "file_extension": ".py",
   "mimetype": "text/x-python",
   "name": "python",
   "nbconvert_exporter": "python",
   "pygments_lexer": "ipython3",
   "version": "3.8.3"
  }
 },
 "nbformat": 4,
 "nbformat_minor": 5
}
