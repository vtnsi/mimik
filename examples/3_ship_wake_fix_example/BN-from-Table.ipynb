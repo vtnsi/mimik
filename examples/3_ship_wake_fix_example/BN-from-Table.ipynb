{
 "cells": [
  {
   "cell_type": "markdown",
   "id": "453ecb1d-f8e8-4851-b00c-c52302882041",
   "metadata": {},
   "source": [
    "# Bayesian Network from Conditional Probability Table\n",
    "[//]: # (Summary)\n",
    "In this tutorial we are creating a Bayesian Network (BN) for the fix task of a Kill Chain as shown in the figure below.\n",
    "\n",
    "![alt text](images/Ship-Wake-BN-Fix.png)\n",
    "\n",
    "We will walk through the aspectes of a BN and then demonstrate constructing a BN by manually creating the Conditional Probability Distribution (CPD) tables that define the edges in the graph. Finally, we demonstrate how the BN task is incorporated in mimik's `Killweb` module.\n",
    "\n",
    "[//]: # (Objective)\n",
    "By the end of this tutorial you will understand how a BN is created using a defined graph and manually created CPD tables, how to infer with that BN, and how to run the `Killweb` module with this Fix BN task.\n",
    "\n",
    "This tutorial requires the Python package [pgmpy](https://pgmpy.org). Please ensure that pgmpy is installed by running the following command in a terminal with the mimik virtual environment active:\n",
    "```\n",
    "$ pip install pgmpy\n",
    "```\n",
    "Or, follow the [pgmpy installation instructions here.](https://pgmpy.org/started/base.html)"
   ]
  },
  {
   "cell_type": "code",
   "execution_count": null,
   "id": "405c659b-49ed-4ec3-b23f-7db93583af0e",
   "metadata": {},
   "outputs": [],
   "source": [
    "import json\n",
    "import warnings\n",
    "import seaborn as sns\n",
    "from tasks.component_BN import ComponentBN\n",
    "from pgmpy.factors.discrete import TabularCPD\n",
    "from mimik.killweb import Killweb\n",
    "\n",
    "warnings.filterwarnings('ignore')"
   ]
  },
  {
   "cell_type": "markdown",
   "id": "92212017-f0a8-45fc-ad35-536e49353cbf",
   "metadata": {},
   "source": [
    "## Creating the Network\n",
    "\n",
    "### Edges\n",
    "\n",
    "Edges define the nodes and their relationship. For example, if there is a connection from node $\\alpha$ to $\\beta$ we specify that with a the tuple ( $\\alpha$ , $\\beta$ ).\n",
    "\n",
    "In this example, the success of the Fix task is affected by the time of day and the weather, so our edges are:\n",
    "- (Time, Fix)\n",
    "- (Weather, Fix)\n",
    "\n",
    "Edges are set in an `edges` variable that is a list of tuples for all the edges in the network."
   ]
  },
  {
   "cell_type": "code",
   "execution_count": null,
   "id": "556c0493-720c-4e3c-bc34-c4bf598dc662",
   "metadata": {},
   "outputs": [],
   "source": [
    "edges = [\n",
    "    ('Time', 'Fix'),\n",
    "    ('Weather', 'Fix'),\n",
    "]"
   ]
  },
  {
   "cell_type": "markdown",
   "id": "c5a7428c-5c78-4184-9a0d-2c25e2db5045",
   "metadata": {},
   "source": [
    "### Conditional Probability Distribution (CPD) Table\n",
    "\n",
    "The CPD tables contain the probability of outcomes for a node, and, if relevant, how probabilities are conditioned on inputs. For example, $\\alpha$ will have a table that contains the probability of its outcomes, $P(\\alpha_i)$ where, which must sum to 1:\n",
    "\n",
    "| &alpha; | Probability |\n",
    "| -------- | ----------- |\n",
    "|    0     | P(&alpha;=0)=0.3 |\n",
    "|    1     | P(&alpha;=1)=0.7 |\n",
    "\n",
    "For the CPD table of $\\beta$, probabilities are conditioned on the input $\\alpha$, so each cell is $P(\\beta_j\\mid\\alpha_i)$:\n",
    "\n",
    "| &beta; | Probability | Probability |\n",
    "| ------- | ----------- | ----------- |\n",
    "|         |           &alpha;=0          |           &alpha;=1           |\n",
    "|    0    | P(&beta;=0 &#124; &alpha;=0)=0.8 | P(&beta;=0 &#124; &alpha;=1)=0.05 |\n",
    "|    1    | P(&beta;=1 &#124; &alpha;=0)=0.2 | P(&beta;=1 &#124; &alpha;=1)=0.95 |\n",
    "\n",
    "\n",
    "In the remainder of this notebook, we do not include the $P(\\alpha_i)$ or $P(\\beta_j\\mid\\alpha_i)$ in the table cells for simplicity. Continuing the Fix task example from above, we first define the table for \"Time\":\n",
    "\n",
    "|  Time   | Probability |\n",
    "| ------- | ----------- |\n",
    "|   Day   |   0.70      |\n",
    "|  Night  |   0.30      |\n",
    "\n",
    "The Bayesian network (BN) requires this information as a `TabularCPD` object, which takes the probabilities of the table along with additional metadata. For a simple table like this, we specify the `variable` name (which must match the spelling of the associated node in `edges`, so Time), the number of possible outcomes (`variable_card`), the probability `values` in the table, and the names of the outcomes of the table (\"Day\" and \"Night\" in the dictionary `state_names` -- this format will make more sense when there are multiple inputs to a node, which we will see shortly). The cell below shows how to create the relevant CPD for the Time node."
   ]
  },
  {
   "cell_type": "code",
   "execution_count": null,
   "id": "df6b3abf-9c95-4b79-a70d-6a1b9b68b46e",
   "metadata": {},
   "outputs": [],
   "source": [
    "time_cpd = TabularCPD(\n",
    "    variable='Time',  # name of the variable node\n",
    "    variable_card=2,  # number of possible outcomes\n",
    "    values=[[0.7],    # conditional probability values\n",
    "            [0.3]],\n",
    "    state_names={    # dictionary of input and output names\n",
    "        'Time': [\"Day\", \"Night\"]\n",
    "    }\n",
    ")"
   ]
  },
  {
   "cell_type": "markdown",
   "id": "890b0f06-b970-41ad-881c-e6b8c38a68b7",
   "metadata": {},
   "source": [
    "Next, we do the same with the \"Weather\" node and its table:\n",
    "\n",
    "| Weather | Probability |\n",
    "| ------- | ----------- |\n",
    "|  Clear  |   0.90      |\n",
    "|   Fog   |   0.10      |"
   ]
  },
  {
   "cell_type": "code",
   "execution_count": null,
   "id": "1ed8df07-106c-431b-b3ea-64427959d5ee",
   "metadata": {},
   "outputs": [],
   "source": [
    "weather_cpd = TabularCPD(\n",
    "    variable='Weather',\n",
    "    variable_card=2,\n",
    "    values=[[0.9],\n",
    "            [0.1]],\n",
    "    state_names={\n",
    "        'Weather': [\"Clear\", \"Fog\"]\n",
    "    }\n",
    ")"
   ]
  },
  {
   "cell_type": "markdown",
   "id": "ca846d40-dadf-4d1c-9a90-02ff367eec75",
   "metadata": {},
   "source": [
    "We must then condition the output of Fix (\"Failure\" or \"Success\") based on the inputs of Time (Day or Night) and Weather (\"Clear\" or \"Fog\"). The CPD for the Fix node is:\n",
    "\n",
    "| Fix     | Probability | Probability | Probability | Probability |\n",
    "| ------- | ----------- | ----------- | ----------- | ----------- |\n",
    "|         |  Time=Day   |  Time=Day   |  Time=Night |  Time=Night |\n",
    "|         |Weather=Clear| Weather=Fog |Weather=Clear| Weather=Fog |\n",
    "| Failure |     0.01    |     0.60    |     0.10    |     0.80    |\n",
    "| Success |     0.99    |     0.40    |     0.90    |     0.20    |\n",
    "\n",
    "Remember, this table is read as $P(Fix_k\\mid Time_j,Weather_i)$, so $P(Fix=Success\\mid Time=Day,Weather=Clear)=0.99$. The values for the probability of outcomes can be defined as a list of lists for the CPD of this node:"
   ]
  },
  {
   "cell_type": "code",
   "execution_count": null,
   "id": "d7c7c170-8a71-49e8-8623-7332a93dfcca",
   "metadata": {},
   "outputs": [],
   "source": [
    "values=[[0.01, 0.60, 0.10, 0.80],  # Failure\n",
    "        [0.99, 0.40, 0.90, 0.20]]  # Success"
   ]
  },
  {
   "cell_type": "markdown",
   "id": "325dcfd1-2873-40fe-a955-57c35125b50b",
   "metadata": {},
   "source": [
    "In addition to the arguments above, for the Fix node we have to specify `evidence`, which are the names of the input nodes (Time and Weather), the `evidence_card` (which holds the number of outcomes for each input evidence node, in this case 2 for each input), and the `state_names` are expanded to include the input nodes. \n",
    "\n",
    "Note that the ordering in `values`, `evidence`, `evidence_card`, and the lists in `state_names` must all align properly. The first row of `values` is for the outcome listed first in the `state_names` for Fix, \"Failure\". Likewise, the conditions for the inputs start with the first condition listed in the `state_names` for Time and Weather, then the last item in `evidence` is cycled through all its possible outcomes before the preceeding is cycled. To help, we've added comments around the values to show the associated labels of the table above."
   ]
  },
  {
   "cell_type": "code",
   "execution_count": null,
   "id": "80c65e01-5f79-40dc-8ae8-5ba60284b7a0",
   "metadata": {},
   "outputs": [],
   "source": [
    "fix_cpd = TabularCPD(\n",
    "    variable='Fix',\n",
    "    variable_card=2,\n",
    "    # Time   Day    Day  Night  Night\n",
    "    # Wx    Clear   Fog  Clear  Fog\n",
    "    values=[[0.01, 0.60, 0.10, 0.80],  # Failure\n",
    "            [0.99, 0.40, 0.90, 0.20]],  # Success\n",
    "    evidence=['Time', 'Weather'],\n",
    "    evidence_card=[2, 2],\n",
    "    state_names={\n",
    "        \"Time\": [\"Day\", \"Night\"],\n",
    "        \"Weather\": [\"Clear\", \"Fog\"],\n",
    "        \"Fix\": [\"Failure\", \"Success\"]\n",
    "    }\n",
    ")"
   ]
  },
  {
   "cell_type": "markdown",
   "id": "e1510f64-6726-4f6c-ab89-6b4db3c0b7b7",
   "metadata": {},
   "source": [
    "Below is a template for a node $\\delta$ conditioned on three inputs: $\\alpha$, $\\beta$, and $\\gamma$, to help illustrated ordering for a more complex table.\n",
    "\n",
    "<!-- | &delta; | Probability | Probability | Probability | Probability | Probability | Probability | Probability | Probability |\n",
    "| -------  | ----------- | ----------- | ----------- | ----------- | ----------- | ----------- | ----------- | ----------- |\n",
    "||&alpha;=0|&alpha;=0|&alpha;=0|&alpha;=0|&alpha;=1|&alpha;=1|&alpha;=1|&alpha;=1|\n",
    "||&beta;=0|&beta;=0|&beta;=1|&beta;=1|&beta;=0|&beta;=0|&beta;=1|&beta;=1|\n",
    "||&gamma;=0|&gamma;=1|&gamma;=0|&gamma;=1|&gamma;=0|&gamma;=1|&gamma;=0|&gamma;=1|\n",
    "|0|P(&delta;=0 &#124; &alpha;=0, &beta;=0, &gamma;=0)|P(&delta;=0 &#124; &alpha;=0, &beta;=0, &gamma;=1)|P(&delta;=0 &#124; &alpha;=0, &beta;=1, &gamma;=0)|P(&delta;=0 &#124; &alpha;=0, &beta;=1, &gamma;=1)|P(&delta;=0 &#124; &alpha;=1, &beta;=0, &gamma;=0)|P(&delta;=0 &#124; &alpha;=1, &beta;=0, &gamma;=1)|P(&delta;=0 &#124; &alpha;=1, &beta;=1, &gamma;=0)|P(&delta;=0 &#124; &alpha;=1, &beta;=1, &gamma;=1)|\n",
    "|1|P(&delta;=1 &#124; &alpha;=0, &beta;=0, &gamma;=0)|P(&delta;=1 &#124; &alpha;=0, &beta;=0, &gamma;=1)|P(&delta;=1 &#124; &alpha;=0, &beta;=1, &gamma;=0)|P(&delta;=1 &#124; &alpha;=0, &beta;=1, &gamma;=1)|P(&delta;=1 &#124; &alpha;=1, &beta;=0, &gamma;=0)|P(&delta;=1 &#124; &alpha;=1, &beta;=0, &gamma;=1)|P(&delta;=1 &#124; &alpha;=1, &beta;=1, &gamma;=0)|P(&delta;=1 &#124; &alpha;=1, &beta;=1, &gamma;=1)| -->\n",
    "\n",
    "![](images/template-table.png)\n",
    "\n",
    "The other metadata for the CPD would be:\n",
    "- evidence = [&alpha;, &beta;, &gamma;]\n",
    "- evidence_card = [2, 2, 2]\n",
    "- state_names\n",
    "    - &alpha; = [0, 1] \n",
    "    - &beta; = [0, 1] \n",
    "    - &gamma; = [0, 1]\n",
    "    - &delta; = [0, 1] \n",
    "  "
   ]
  },
  {
   "cell_type": "markdown",
   "id": "9927954b-5ce6-42fb-a23e-830d6f79e743",
   "metadata": {},
   "source": [
    "### Constructing the BN"
   ]
  },
  {
   "cell_type": "markdown",
   "id": "33e70583-24e9-4a46-bab2-b388e5c55e1c",
   "metadata": {},
   "source": [
    "Finally, we create the BN using the `ComponentBN` class, which takes the edges and a list of the tabular CPDs as input to construct the BN."
   ]
  },
  {
   "cell_type": "code",
   "execution_count": null,
   "id": "8576e504-ecbe-4e96-9b9f-32d14716c501",
   "metadata": {},
   "outputs": [],
   "source": [
    "fix_BN = ComponentBN(\n",
    "    edges=edges,\n",
    "    CPDs=[\n",
    "        time_cpd,\n",
    "        weather_cpd,\n",
    "        fix_cpd\n",
    "    ]\n",
    ")"
   ]
  },
  {
   "cell_type": "markdown",
   "id": "6eda6b72-dd11-4723-bde7-2c0556af3106",
   "metadata": {},
   "source": [
    "We can visualize the network by calling the `draw_network` method."
   ]
  },
  {
   "cell_type": "code",
   "execution_count": null,
   "id": "d64b8ba0-4630-4f5d-a868-d6030fbe8cac",
   "metadata": {},
   "outputs": [],
   "source": [
    "fix_BN.draw_network()"
   ]
  },
  {
   "cell_type": "markdown",
   "id": "9a3b4e96-27be-4478-b1f1-fac7bb66e749",
   "metadata": {},
   "source": [
    "## Using the BN\n",
    "\n",
    "### Inference Probability of Success\n",
    "\n",
    "Given some evidence, same `Time=Day` and `Weather=Clear`, we can get the associated probability table for the Fix node by calling the `get_infer` method:"
   ]
  },
  {
   "cell_type": "code",
   "execution_count": null,
   "id": "5c23885d-75e1-4727-a03a-b73e8e7cb5b7",
   "metadata": {},
   "outputs": [],
   "source": [
    "query = fix_BN.get_infer(\n",
    "    evidence={\n",
    "        \"Time\": \"Day\",\n",
    "        \"Weather\": \"Clear\"\n",
    "    },\n",
    "    variables=[\"Fix\"]\n",
    ")\n",
    "print(query)"
   ]
  },
  {
   "cell_type": "markdown",
   "id": "f5f469db-a7da-4de7-92f9-bc25973d608f",
   "metadata": {},
   "source": [
    "Notice that this matches the probabilities from the table above. For simple cases like this, where a set of inputs goes directly to an outcome node, the inference will be a look up in the table. If more complex graphs are used the inference method will perform the math needed to correctly compute the inference. For example, if we had the following graph and evidence for $\\alpha$, $\\beta$, and $\\gamma$, then we could run the same method to get the probability of outcomes for $\\delta$.\n",
    "\n",
    "![](images/example-graph.svg)\n",
    "\n",
    "We can also get just the probability of success using the `get_prob_success` method and providing the evidence and desired outcome `Fix=\"Success\"`: "
   ]
  },
  {
   "cell_type": "code",
   "execution_count": null,
   "id": "2dddd051-ea5a-4124-843f-d1638d41f6da",
   "metadata": {},
   "outputs": [],
   "source": [
    "fix_BN.get_prob_success(\n",
    "    evidence={\n",
    "        \"Time\": \"Day\",\n",
    "        \"Weather\": \"Clear\"\n",
    "    },\n",
    "    Fix=\"Success\"\n",
    ")"
   ]
  },
  {
   "cell_type": "markdown",
   "id": "7e5b7968-dd51-4896-bbd6-6c7fad3895ad",
   "metadata": {},
   "source": [
    "### Sampling\n",
    "\n",
    "While the above inference provides the probability of success (or failure), the Monte Carlo simulation in mimik requires random sampling from the probability of outcomes for the Fix node. This is done through the `get_sample` method, which does return a pandas data frame, but we can just look at the outcome. Given the high probability of success and the low sample size, the outcome is mostly likely a \"Success\""
   ]
  },
  {
   "cell_type": "code",
   "execution_count": null,
   "id": "a9e93474-8d92-4153-ad60-ff63baba1bcc",
   "metadata": {},
   "outputs": [],
   "source": [
    "%%capture --no-stderr\n",
    "df = fix_BN.get_sample(\n",
    "    evidence={\n",
    "        \"Time\": \"Day\",\n",
    "        \"Weather\": \"Clear\"\n",
    "    },\n",
    "    size=1\n",
    ")\n",
    "df"
   ]
  },
  {
   "cell_type": "markdown",
   "id": "b08d2fb7-ca2f-4923-826c-090b0270e4c4",
   "metadata": {},
   "source": [
    "We can just grab the value of `Fix` for the sample generated above."
   ]
  },
  {
   "cell_type": "code",
   "execution_count": null,
   "id": "444c47c0-2ecd-4eee-b369-12e18e077282",
   "metadata": {},
   "outputs": [],
   "source": [
    "df[\"Fix\"].values[0]"
   ]
  },
  {
   "cell_type": "markdown",
   "id": "eb43f25e-c104-4301-90df-07635e846f50",
   "metadata": {},
   "source": [
    "If we increase the sample `size` we can get enough results to see failures and can plot a histogram of the results to visualize the ratio of success to failure."
   ]
  },
  {
   "cell_type": "code",
   "execution_count": null,
   "id": "740112a8-44e6-4193-a665-f490f14915ca",
   "metadata": {},
   "outputs": [],
   "source": [
    "%%capture --no-stderr\n",
    "results = fix_BN.get_sample(\n",
    "    evidence={\n",
    "        \"Time\": \"Day\",\n",
    "        \"Weather\": \"Clear\"\n",
    "    },\n",
    "    size=100_000\n",
    ")[\"Fix\"]"
   ]
  },
  {
   "cell_type": "code",
   "execution_count": null,
   "id": "c89157e6-7f64-49d8-bd1e-40aefbeee8d8",
   "metadata": {},
   "outputs": [],
   "source": [
    "print(results.value_counts())\n",
    "\n",
    "sns.histplot(results.values);"
   ]
  },
  {
   "cell_type": "markdown",
   "id": "2c012588-64eb-40e8-996d-bd51df2f3614",
   "metadata": {},
   "source": [
    "If we change the evidence for weather to \"Fog\" we can see that the probability of success drops significantly. By constructing and using BNs in MIMIK we can account for changes in conditions like this when modeling Killwebs."
   ]
  },
  {
   "cell_type": "code",
   "execution_count": null,
   "id": "32b0aedd-fe4e-4a01-b95d-6ecc7bc19507",
   "metadata": {},
   "outputs": [],
   "source": [
    "%%capture --no-stderr\n",
    "results = fix_BN.get_sample(\n",
    "    evidence={\n",
    "        \"Time\": \"Day\",\n",
    "        \"Weather\": \"Fog\"\n",
    "    },\n",
    "    size=100_000\n",
    ")[\"Fix\"]"
   ]
  },
  {
   "cell_type": "code",
   "execution_count": null,
   "id": "b613faf5-7f2e-4740-a91e-62e2c3b94fb7",
   "metadata": {},
   "outputs": [],
   "source": [
    "print(results.value_counts())\n",
    "\n",
    "sns.histplot(results.values);"
   ]
  },
  {
   "cell_type": "markdown",
   "id": "504f1ed6-6a68-4be7-a856-daa09d9fd70b",
   "metadata": {},
   "source": [
    "## JSON Configs\n",
    "\n",
    "This is the json configuration for this Bayesian network. Because it's constant for any similar Fix task node in the Killweb we save this configuration in its own file in the `configs/` directory. This type of configuration is how users can create their own custom BN for new Killwebs. Each type of BN node will have its own json config file, separate from the Killweb config file. More details for the configuration files are discussed in the enxt section. This section is just to demonstrate what the BN configs looks like and how it compares to the construction we did in the previous section."
   ]
  },
  {
   "cell_type": "code",
   "execution_count": null,
   "id": "80d3a940-9af7-4b30-bd57-7394ca190150",
   "metadata": {},
   "outputs": [],
   "source": [
    "text = \"\"\"\n",
    "{\n",
    "  \"edges\": [\n",
    "    [\"Time\", \"Fix\"],\n",
    "    [\"Weather\", \"Fix\"]\n",
    "  ],\n",
    "  \"data\": null,\n",
    "  \"CPDs\":\n",
    "  {\n",
    "    \"Time\":\n",
    "    { \"variable\": \"Time\",\n",
    "      \"variable_card\": 2,\n",
    "      \"values\": [\n",
    "        [0.70],\n",
    "        [0.30]\n",
    "      ],\n",
    "      \"state_names\": {\n",
    "        \"Time\": [\"Day\", \"Night\"]\n",
    "      }\n",
    "    },\n",
    "    \"Weather\":\n",
    "    { \"variable\": \"Weather\",\n",
    "      \"variable_card\": 2,\n",
    "      \"values\": [\n",
    "        [0.90],\n",
    "        [0.10]\n",
    "      ],\n",
    "      \"state_names\": {\n",
    "        \"Weather\": [\"Clear\", \"Fog\"]\n",
    "      }\n",
    "    },\n",
    "    \"Fix\":\n",
    "    { \"variable\": \"Fix\",\n",
    "      \"variable_card\": 2,\n",
    "      \"values\": [\n",
    "        [0.01, 0.60, 0.10, 0.80],\n",
    "        [0.99, 0.40, 0.90, 0.20]\n",
    "      ],\n",
    "      \"evidence\": [\n",
    "        \"Time\",\n",
    "        \"Weather\"\n",
    "      ],\n",
    "      \"evidence_card\": [2,2],\n",
    "      \"state_names\": {\n",
    "        \"Time\": [\"Day\", \"Night\"],\n",
    "        \"Weather\": [\"Clear\", \"Fog\"],\n",
    "        \"Fix\": [\"Failure\", \"Success\"]\n",
    "      }\n",
    "    }\n",
    "  }\n",
    "}\n",
    "\"\"\""
   ]
  },
  {
   "cell_type": "markdown",
   "id": "a8c27481-c285-49aa-9b05-b3a6f12c23ca",
   "metadata": {},
   "source": [
    "We can load the text above and provide it to the `ComponentBN` class to create the Fix task node. Then we rerun the `draw_network` and `get_infer` methods to demonstrate the BN is the same as the one we created in the previous section."
   ]
  },
  {
   "cell_type": "code",
   "execution_count": null,
   "id": "94aade6a-8595-4c7f-9c17-94a0977b5f65",
   "metadata": {},
   "outputs": [],
   "source": [
    "data = json.loads(text)\n",
    "CPD_list = []\n",
    "CPD_cfg = data.pop(\"CPDs\")\n",
    "for name, config in CPD_cfg.items():\n",
    "    CPD_list.append(TabularCPD(**config))\n",
    "\n",
    "fix_BN = ComponentBN(\n",
    "    # edges=data[\"Edges\"],\n",
    "    # data=data[\"Data\"],\n",
    "    **data,\n",
    "    CPDs=CPD_list\n",
    ")"
   ]
  },
  {
   "cell_type": "code",
   "execution_count": null,
   "id": "1e72f3d1-492f-4029-ac78-138457d94f3c",
   "metadata": {},
   "outputs": [],
   "source": [
    "fix_BN.draw_network()"
   ]
  },
  {
   "cell_type": "code",
   "execution_count": null,
   "id": "74e45592-4381-456c-8918-c3640c886e18",
   "metadata": {},
   "outputs": [],
   "source": [
    "q = fix_BN.get_infer(\n",
    "    evidence={\n",
    "        \"Time\": \"Day\",\n",
    "        \"Weather\": \"Clear\"\n",
    "    },\n",
    "    variables=[\"Fix\"]\n",
    ")\n",
    "print(q)"
   ]
  },
  {
   "cell_type": "markdown",
   "id": "82306dd0-d5d1-46c0-baf3-255de64d5bae",
   "metadata": {},
   "source": [
    "## Using the Killweb Module\n",
    "\n",
    "All of the above setup and sampling of outcomes is automoated by the `Killweb` module in MIMIK. All the user needs to provide are the json configs for the Killweb and the associated Bayesian network tasks. For this tutorial, the correct configurations are already set up in the `configs` subdirectory. All we have to do is specify this working directory (`.`) and the main config file `configs/bn_killchain.json` (\"killchain\" becuase this tutorial only has a single path). The `task_arguments` for this Fix task node must include the absolute path to the BN config file. We must also specify the name of the `outcome` node and the success `condition` so the `BN.get_sample` method can be called correctly during the Monte Carlo simulation. The remaining arguments under `task_arguments` are the evidence that are used for the inference and sampling.\n",
    "\n",
    "```json\n",
    "\"task_arguments\": {\n",
    "    \"BN_config\": \"/absolute/path/to/mimik/ship_wake_fix_task/configs/fix_simple.json\",\n",
    "    \"outcome\": \"Fix\",\n",
    "    \"condition\": \"Success\",\n",
    "    \"Time\": \"Day\",\n",
    "    \"Weather\": \"Clear\"\n",
    "}\n",
    "```\n",
    "\n",
    "The killweb module is called by specifying the working directory of this example case and the path from there to the killchain config file."
   ]
  },
  {
   "cell_type": "code",
   "execution_count": null,
   "id": "0089f351-70af-469c-9257-5462a5a52ef4",
   "metadata": {},
   "outputs": [],
   "source": [
    "killweb = Killweb(\n",
    "    working_dir=\".\",\n",
    "    config_file=\"configs/bn_killchain.json\",\n",
    ")"
   ]
  },
  {
   "cell_type": "markdown",
   "id": "57e56951-5263-4c77-84f2-153dce85cdd6",
   "metadata": {},
   "source": [
    "The data is read and confirmed that the configs are in valid json format. Next we can print all the paths through the killweb (there will be only one path in this tutorial -- \"Radar_1, Sensor_1, Track Algorithm_1, Equation_1, Missle_1, Personnel_1\"), and then run the Monte Carlo simulation with 1,000 iterations."
   ]
  },
  {
   "cell_type": "code",
   "execution_count": null,
   "id": "0886f73e-5d47-4572-8ee6-1f95094a1e79",
   "metadata": {},
   "outputs": [],
   "source": [
    "killweb.print_all_paths_in_killweb()"
   ]
  },
  {
   "cell_type": "code",
   "execution_count": null,
   "id": "80121a87-fd2c-49fd-9d60-26eaad287e6d",
   "metadata": {},
   "outputs": [],
   "source": [
    "%%capture --no-stderr\n",
    "killweb.monte_carlo_on_paths(1000)"
   ]
  },
  {
   "cell_type": "markdown",
   "id": "292232d1-8f06-4be5-82b9-2557acf7249a",
   "metadata": {},
   "source": [
    "Now that the Monte Carlo is complete, we can print the probabilities of success for the path in the killchain:"
   ]
  },
  {
   "cell_type": "code",
   "execution_count": null,
   "id": "3f9318f8-0e2b-4af8-a279-a56cabb44c7d",
   "metadata": {},
   "outputs": [],
   "source": [
    "killweb.print_probabilities_of_paths(1)"
   ]
  },
  {
   "cell_type": "markdown",
   "id": "1da16ca9-3c2f-4d75-aa23-af186fa0d67b",
   "metadata": {},
   "source": [
    "In cases where there are more than one path in the Killweb, we can specify the path to test and get its probability of success as the proportion of time it sucessfully complete:"
   ]
  },
  {
   "cell_type": "code",
   "execution_count": null,
   "id": "446cf5f8-a5f9-4743-87ed-240e44097aa3",
   "metadata": {},
   "outputs": [],
   "source": [
    "path_to_test = [\"Radar_1\", \"Sensor_1\", \"Track Algorithm_1\", \"Equation_1\", \"Missle_1\", \"Personnel_1\"]\n",
    "killweb.print_proportion_complete(path_to_test)"
   ]
  },
  {
   "cell_type": "markdown",
   "id": "50b38406-f716-46ba-9063-01bc1d9ecaf8",
   "metadata": {},
   "source": [
    "For a specific path, we can also plot the distribution of outcomes for each node as both a proportion of binary success using the `killweb.plot_monte_carlo_distribution` method or as the histogram of actual probabilities of success using the `killweb.plot_probability_distribution` method. Not that for the `killweb.plot_probability_distribution`, becuase all the probabilities are high it will look like outcomes are either 1.0 or 0."
   ]
  }
 ],
 "metadata": {
  "kernelspec": {
   "display_name": "Python 3 (ipykernel)",
   "language": "python",
   "name": "python3"
  },
  "language_info": {
   "codemirror_mode": {
    "name": "ipython",
    "version": 3
   },
   "file_extension": ".py",
   "mimetype": "text/x-python",
   "name": "python",
   "nbconvert_exporter": "python",
   "pygments_lexer": "ipython3",
   "version": "3.11.0"
  }
 },
 "nbformat": 4,
 "nbformat_minor": 5
}
