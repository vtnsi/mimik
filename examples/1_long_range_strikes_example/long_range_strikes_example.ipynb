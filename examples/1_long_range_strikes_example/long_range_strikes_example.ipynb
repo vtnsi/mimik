{
 "cells": [
  {
   "cell_type": "markdown",
   "id": "be62e100-7202-4aca-a781-0dd429e9433c",
   "metadata": {},
   "source": [
    "# Understanding Killwebs\n",
    "\n",
    "A killweb is best understood as a series of interconnected systems and components which work together to complete a mission. This concept is the evolution of the kill chain which is a single, linear path of connected components that are used to complete each task within a given mission. Killwebs aim to enhance mission planning by striving for joint capabilities that are more robust than a kill chain could offer.\n",
    "\n",
    "For example, say a given mission has a multitude of sensors and weaponry available for use. Any given kill chain would only consider a single sensor, weapon pair that could be used to complete the mission. On the other hand, a killweb simultaneously models and visualizes all components, systems, and their interactions to analyze a given mission and its capabilities.\n",
    "\n",
    "We consider two ways of modeling and visualizing killwebs: at the component level and at the system level. We will begin by discussing the component level analysis, followed by a discussion at the system level. Although it is possible to apply these concepts to other mission frameworks or scenarios, the remainder of this notebook will be specific to the exemplar."
   ]
  },
  {
   "cell_type": "markdown",
   "id": "821aea72",
   "metadata": {},
   "source": [
    "# Exemplar 1: Long Range Strikes\n",
    "\n",
    "The mission you are tasked with involves striking a moving target from a long distance.\n",
    "\n",
    "It is important to note that there are many different ways of mission decomposition into multiple tasks. Different branches, organizations, or teams might use their own methods for the tasks required to complete a mission. We will focus on the F2T2EA decomposition framework. An acronym for Find, Fix, Track, Target, Engage, Assess, this represents the necessary tasks needed to complete a mission. This mission decomposition was chosen for its simplicity and popularity, but this research can be applied to any task-based mission decomposition. Now we have the mission goal and the means to decompose the mission into a series of manageable tasks. In creating your own example, this would be a good time to fulfill the first two requirements of creating a config file and populating a tasks directory.\n",
    "\n",
    "With this mission decomposition framework in mind, we have to:\n",
    "1. Find - Identify the target to be struck. Successful completion of this task identifies the target to be a mobile anti-aircraft missile launcher.\n",
    "2. Fix - Determine the target's location. Successful completion of this task provides the exact coordinates of the anti-aircraft launcher.\n",
    "3. Track - Continuously monitor the target's movement. This step is continuous and its success ensures the anti-aircraft launcher's location remains up to date.\n",
    "4. Target - Select the device that will be used to strike the anti-aircraft launcher. Taking into account all parameters, success here will provide the weapon used for the strike.\n",
    "5. Engage - Send the selected weapon in to strike the anti-aircraft launcher.\n",
    "6. Assess - Evaluate the results of the strike by determining whether or not the anti-aircraft launcher was destroyed.\n",
    "\n",
    "Given a collection of components and systems, we can begin by creating the killwebs before analyzing it for any valuable data."
   ]
  },
  {
   "cell_type": "markdown",
   "id": "f7bc60d4-5af7-4f90-a2a1-601fa36ccd33",
   "metadata": {},
   "source": [
    "### Importing Functionality\n",
    "\n",
    "We begin by importing the necessary libraries and classes."
   ]
  },
  {
   "cell_type": "code",
   "execution_count": null,
   "id": "13b994f1-dac5-4be9-a727-633cd1173530",
   "metadata": {},
   "outputs": [],
   "source": [
    "import os\n",
    "%matplotlib widget\n",
    "import matplotlib.pyplot as plt\n",
    "from mimik.killweb import Killweb"
   ]
  },
  {
   "cell_type": "markdown",
   "id": "88864cd4-08a1-4187-8e71-e1be8241e74d",
   "metadata": {},
   "source": [
    "### Data Loading\n",
    "\n",
    "Our killwebs are generated from a given configuration file. This file contains a series of components. Each component includes the task it is assigned to complete, the parameters for the probabilistic model, and a list of components that it is connected to. These files are read from to generate the outputs placed in the given output directory."
   ]
  },
  {
   "cell_type": "code",
   "execution_count": null,
   "id": "7905ec30-ddc8-454e-a142-ae0635bc368b",
   "metadata": {},
   "outputs": [],
   "source": [
    "config_file = os.path.join(os.getcwd(), \"configs\", \"killweb_interconnected.json\")"
   ]
  },
  {
   "cell_type": "markdown",
   "id": "10f6eb14-4032-4f14-a504-2aed27972f94",
   "metadata": {},
   "source": [
    "## Component Level Killwebs\n",
    "\n",
    "At the component level, each available component has a single task to be achieved alongside a single probabilistic model for calculating the likelihood of successfully completing the associated task. These components can be on their own, but are often smaller pieces of larger, interconnected systems. One example of a component might be a sensor whose purpose is the complete the \"Fix\" task of F2T2EA, and the results of the sensor could work with 3 different components which satisfy the \"Track\" task.\n",
    "\n",
    "This trail of thought led to the idea that component level killwebs can be represented by acyclic directional graphs. Each node represents a component with a given task, and each node will have outgoing edges to compatible components responsible for completing the next task.\n",
    "\n",
    "The associated probabilistic model can be as simple or complex as necessary. It could be a simple distance equation with a probabilistic value of 0 or 1 if the target is within the given range, or it could be the confidence of an AI model focused on detecting a given target provided the current luminosity, weather, and time of day."
   ]
  },
  {
   "cell_type": "markdown",
   "id": "a175f276-5d2a-4523-b125-bb11afdf8ccf",
   "metadata": {},
   "source": [
    "### Creating the Killweb\n",
    "\n",
    "With the path to the configuration file, the killweb can now be generated. WIthin the killweb's creation, a component graph will also be created alongside a ComponentMetrics object. We will touch on each of these object, beginning with the ComponentGraph\n",
    "\n",
    "### Using the ComponentGraph\n",
    "\n",
    "Initializing a ComponentGraph object creates a depth first, directional graph where each node represents a component, and edges represent information exchange. You might notice the \"center\" component which can be thought of as either a sentinel node for the final components to point to or as the final node representing a completed mission."
   ]
  },
  {
   "cell_type": "code",
   "execution_count": null,
   "id": "a9668514-bf5e-4078-b64b-693102bbae90",
   "metadata": {},
   "outputs": [],
   "source": [
    "killweb = Killweb(working_dir='.', config_file=config_file, silent=True)\n",
    "for node in killweb.component_graph.nodes:\n",
    "    component = killweb.component_graph.nodes[node][\"component\"]\n",
    "    print(\"Killweb has component: %s with associated task, %s.\" % (component.full_name, component.task.task_name))"
   ]
  },
  {
   "cell_type": "markdown",
   "id": "8760ae58-798f-4e77-9e83-ff71f16edf80",
   "metadata": {},
   "source": [
    "Here we can see our whole list of components and their associated tasks. 19 different components are available for completing this missions 6 different tasks. You will also notice the 'center' node with task Other. That is a sentinel component that all components with the task 'Assess' point to."
   ]
  },
  {
   "cell_type": "markdown",
   "id": "783eb75c-75a4-4640-9213-f7548cb207b9",
   "metadata": {},
   "source": [
    "### Visualizing the Component Graph with NetworkX\n",
    "\n",
    "Given the component graph. We can utilize a collection of Python libraries to display the component based killweb. The first graph shown is generated by Networkx, and the second is generated by PyGraphViz using the Networkx graph as input. It is important to note that the first Networkx graph is more useful outside of Jupyter as this is just a static representation of a dynamic figure that displays information when each node is hovered."
   ]
  },
  {
   "cell_type": "code",
   "execution_count": null,
   "id": "fbc3c4ac-7514-4a0a-963a-e799b198c8c7",
   "metadata": {},
   "outputs": [],
   "source": [
    "killweb.create_component_networkx_visualization(False);"
   ]
  },
  {
   "cell_type": "markdown",
   "id": "d1682fd3",
   "metadata": {},
   "source": [
    "### Analyzing the Component Graph with Respect to Our Mission\n",
    "\n",
    "Here, we can see all of the general components that can be used within our mission. The associations of the tasks to node labels can be found below. The numbers found within the node label correspond to the associated system number.\n",
    "\n",
    "* Radar - Find\n",
    "* Sensor - Fix\n",
    "* Track Algorithm - Track\n",
    "* Equation - Target\n",
    "* Missle - Engage\n",
    "* Personnel - Assess\n",
    "\n",
    "For the long range strike mission, there are 3 systems available for use, each with theoretical capability to execute the mission on its own. However, the components can also be compatible with the components of other systems. One example being Sensor 2, which is compatible with Track Algorithms 1, 2, and 3. Witholding the system information from each component allows for a graph analysis of raw compatibility of inputs, outputs, and transmissions."
   ]
  },
  {
   "cell_type": "markdown",
   "id": "9eabf613-2ccc-4b2b-a2c6-9eac4fb8772a",
   "metadata": {},
   "source": [
    "### Analyzing Killweb Probability\n",
    "\n",
    "With the component graph visualization, we can begin to perform analysis onto our mission capabilities. First, we will output all of the paths in the killweb. Then, we can calculate the probability of each of these paths. The following code will find and print each of these paths before sorting them by decreasing probability. The function called runs N iterations for each path given, and then takes the average probability of all N iterations.\n",
    "\n",
    "### Getting All Paths Within the Killweb"
   ]
  },
  {
   "cell_type": "code",
   "execution_count": null,
   "id": "204bf55f-4027-4a50-b686-3cf4ba2a9151",
   "metadata": {},
   "outputs": [],
   "source": [
    "killweb.print_all_paths_in_killweb()"
   ]
  },
  {
   "cell_type": "markdown",
   "id": "215a6f1f-ea88-4f33-a86a-ab208147fdfe",
   "metadata": {},
   "source": [
    "### Monte Carlo Simulation of Paths"
   ]
  },
  {
   "cell_type": "code",
   "execution_count": null,
   "id": "98a670c3-55f7-4abf-b457-73adadbb7e6c",
   "metadata": {},
   "outputs": [],
   "source": [
    "killweb.monte_carlo_on_paths(10000)\n",
    "killweb.print_probabilities_of_paths()"
   ]
  },
  {
   "cell_type": "markdown",
   "id": "2cc33c28-a3af-42f8-a779-a18000b96e08",
   "metadata": {},
   "source": [
    "The above information is extremely useful in determining mission capability as there can be some paths with moderately high odds of success alongside paths with extremely low odds of success.\n",
    "\n",
    "* That being said, with the given components, we can see the paths most likely to succeed hovers around 20%.\n",
    "* The only paths with a chance of success involve Track Algorithm 1 and Equation 1.\n",
    "* Inversely, path involving Track Algorithm 2, Track Algorithm 3, Equation 2, Equation 3, Missle 2, or Personnel 2 have a success probability of 0.0. This indicates that some or all of these components are defunct, and improvements to these components could lead to much greater odds of success to the mission overall as well as more viable paths through the killweb. As the Track Algorithms are earlier in the path, they should be investigated first.\n",
    "\n",
    "With this information in mind, we can dive deeper into some of these paths. First beginning with a path more likely to succeed, then a path with no chance of success."
   ]
  },
  {
   "cell_type": "code",
   "execution_count": null,
   "id": "3ef9e877-440c-422b-898e-23d2ce174458",
   "metadata": {},
   "outputs": [],
   "source": [
    "path_to_test = [\"Radar_2\", \"Sensor_2\", \"Track Algorithm_1\", \"Equation_1\", \"Missle_1\", \"Personnel_1\"]\n",
    "killweb.print_proportion_complete(path_to_test)\n",
    "killweb.print_average_number_of_successes(path_to_test)\n",
    "killweb.plot_monte_carlo_distribution(path_to_test)"
   ]
  },
  {
   "cell_type": "code",
   "execution_count": null,
   "id": "2a96766c-f2c7-4cc1-a8d8-cd42708770b3",
   "metadata": {},
   "outputs": [],
   "source": [
    "path_to_test = [\"Radar_2\", \"Sensor_2\", \"Track Algorithm_3\", \"Equation_3\", \"Missle_3\", \"Personnel_3\"]\n",
    "prop_complete = killweb.print_proportion_complete(path_to_test)\n",
    "killweb.print_average_number_of_successes(path_to_test)\n",
    "killweb.plot_monte_carlo_distribution(path_to_test)"
   ]
  },
  {
   "cell_type": "markdown",
   "id": "0f7e5d07-4471-4cdf-8ff0-7d0db8c8bb38",
   "metadata": {},
   "source": [
    "### Analyzing Monte Carlo Simulation of Paths\n",
    "\n",
    "In the first set of graphs, it appears that there is a somewhat graceful degredation throughout the path. There is a significant drops between Radar_2 and Sensor_2 due to the Sensor_2 having a success probability between 0.5 and 0.6. This degredation continues as more failures occur in components that are not guarenteed to succeed. It appears that Sensor_2 and Track_Algorithm_1 could use some improvements. Sensor_2 has a range of probabilities depending on the conditions, but the sensor is inoperable betweeen 30% and 40% of the time. Track_Algorithm_1 also has a static probability between 0.4 and 0.5. Ensuring Sensor_2 can operate in conditions it is currently inoperable, and improving Track Algorithm 1 could significantly boost not only the success probability of the currently observed kill chain, but the killweb as a whole for all the paths involving either of these components.\n",
    "\n",
    "The second set of graphs tells a much different story. We observe the same initial performance with Radar_2 and Sensor_2, but there are no successful events for later components. These graphs signify a dead zone in the kill chain, and further investigation into other paths containing Track Algorithm 2, Track Algorithm 3, Equation 2, Equation 3, Missle 2, and Personnel 2, reveal these components to all be a part of said dead zone. With the given structure of the killweb, the first place to looks are Track Algorithms 2 and 3 as these components mark the start of the dead zone."
   ]
  },
  {
   "cell_type": "markdown",
   "id": "5520b174-519e-48d3-8855-a59365998e95",
   "metadata": {},
   "source": [
    "### Component Centrality\n",
    "\n",
    "One other important metric for the component graph is the centraility of each node. As we are working with a directional graph, we can compute both the in and out centrality of each node, and sort them accordingly."
   ]
  },
  {
   "cell_type": "code",
   "execution_count": null,
   "id": "051c3f4a",
   "metadata": {},
   "outputs": [],
   "source": [
    "centrality = killweb.calculate_node_centrality()"
   ]
  },
  {
   "cell_type": "markdown",
   "id": "8d9f8aef",
   "metadata": {},
   "source": [
    "Above we can see the sorted list of components by both their in and out centrality. A higher node centrality implies a high number of components pointing to it; a component is compatible with a high number of components capable of completing the next or previous task in the killweb. Inversely, a lower node centrality implies fewer nodes pointing to it; the component is compatible with fewer components capable of the next or previous task. Components with a centrality of 0 are not included as that indicates a broken killweb or that they starting components. It is also important to note that while an increase of 1 anywhere of in-degree centrality corresponds to an equal increase somewhere of out-degree centrality and vice-versa. That logic does not necessarily mean that there is an increase of 1 in total number of viable paths within the killweb. The increase is felt throughout the entire killweb, potentially resulting in many more paths with their own probabilities.\n",
    "\n",
    "* The Radar components each have an in-centrality of 0, so they are not included within the in-degree centrality list. Personnel are not included in the out-degree centrality for the same reason.\n",
    "* From the list, we see that Track Algorithm 1 and Missle 3 have an in-centrality of 3. With this information, we can infer that these components can work with a variety of input types or they require the least amount of specification.\n",
    "* Sensor 2 and Radar 1 have an out-centrality of 3. Similarly, these components might be able to produce output in a variety of formats or one that is more generalizable.\n",
    "* Out of the previously identified \"dead zone\" within the killweb of Track Algorithm 2, Track Algorithm 3, Equation 2, Equation 3, Missle 2, and Personnel 2, we see that all but Track Algorithm 3 have an in-degree centrality of 1. This indicates that paths with these components must stem from the same place which further reinforces the need to investigate the Track Algorithms found at the start of the dead zone."
   ]
  },
  {
   "cell_type": "markdown",
   "id": "43c1a14c-c112-4f52-bab3-3f783101f8f1",
   "metadata": {},
   "source": [
    "### Addining a new Track Algorithm\n",
    "\n",
    "To find the cause of the dead zone, we can add a new component which we will call \"Track Algorithm_4\" that comes from Sensor_2 and points to Equation_2 and Equation_3. With this new theoretical component added, we can definitively conclude whether or not Track Algorithms 2 and 3 are the sole cause of the dead zone. First we will add the node and run a monte carlo simulation with the new paths, and then we will analyze one of the new paths available."
   ]
  },
  {
   "cell_type": "code",
   "execution_count": null,
   "id": "ca11ba55-db67-4b1c-8c65-dd08c091d58e",
   "metadata": {},
   "outputs": [],
   "source": [
    "new_component_dict = {\"task\": \"Track\", \"task_arguments\": {\"alpha_track\": 125, \"beta_track\": 7, \"tau\": 10}, \"system_name\": \"System_4\"}\n",
    "killweb.add_new_component(component_name=\"Track Algorithm_4\", to_components=[\"Equation_2\", \"Equation_3\"], from_components=[\"Sensor_2\"], component_attributes=new_component_dict)\n",
    "killweb.monte_carlo_on_paths(1000)\n",
    "killweb.print_probabilities_of_paths(selected_component=\"Track Algorithm_4\")\n",
    "path_to_test = [\"Radar_2\", \"Sensor_2\", \"Track Algorithm_4\", \"Equation_2\", \"Missle_2\", \"Personnel_2\"]\n",
    "killweb.print_proportion_complete(path_to_test)\n",
    "killweb.print_average_number_of_successes(path_to_test)\n",
    "killweb.plot_monte_carlo_distribution(path_to_test)"
   ]
  },
  {
   "cell_type": "markdown",
   "id": "afa2588a-8a32-43f7-9d60-266b3216a82e",
   "metadata": {},
   "source": [
    "These results clearly show that the cause of the original kill web's dead zone was both Track Algorithms 2 and 3. Now, with Track Algorithm_4 added, Equation_2; Equation_3; Missle_2; and Personnel_2 are included in paths with Track Algorithm_4 with a success probability greater than zero. In fact, the paths with Track Algorithm_4 are those with some of the highest success probabilities in the entire kill web with overall success nearly doubling from the previous maximum."
   ]
  },
  {
   "cell_type": "code",
   "execution_count": null,
   "id": "60e720ce-7ebc-497a-8e48-fbdbdc2aa9a9",
   "metadata": {},
   "outputs": [],
   "source": [
    "killweb.add_new_edge(from_component_name=\"Track Algorithm_4\", to_component_name=\"Equation_3\")\n",
    "killweb.monte_carlo_on_paths(1000)\n",
    "killweb.print_probabilities_of_paths(selected_component=\"Equation_3\")"
   ]
  },
  {
   "cell_type": "markdown",
   "id": "20f8797b-42a4-417b-8a2e-67a64dbca0db",
   "metadata": {},
   "source": [
    "Now we can see that by adding an edge in betweeen Track Algorithm_4 and Equation_3, we do observe a handful of paths with a probability greater than zero. Therefore, we can conclude that Track Algorithms 2 and 3 are defunct components that result in a dead zone of the kill web, and correcting them in favor of a more superior Track Algorithm component should be a high priority."
   ]
  }
 ],
 "metadata": {
  "kernelspec": {
   "display_name": "Python 3 (ipykernel)",
   "language": "python",
   "name": "python3"
  },
  "language_info": {
   "codemirror_mode": {
    "name": "ipython",
    "version": 3
   },
   "file_extension": ".py",
   "mimetype": "text/x-python",
   "name": "python",
   "nbconvert_exporter": "python",
   "pygments_lexer": "ipython3",
   "version": "3.11.0"
  }
 },
 "nbformat": 4,
 "nbformat_minor": 5
}
