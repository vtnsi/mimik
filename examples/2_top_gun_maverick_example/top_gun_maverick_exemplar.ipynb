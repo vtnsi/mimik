{
 "cells": [
  {
   "cell_type": "markdown",
   "id": "821aea72",
   "metadata": {},
   "source": [
    "# Exemplar 2: Destroying Underground Nuclear Bunker from Top Gun: Maverick"
   ]
  },
  {
   "cell_type": "markdown",
   "id": "f7bc60d4-5af7-4f90-a2a1-601fa36ccd33",
   "metadata": {},
   "source": [
    "### Importing Functionality\n",
    "\n",
    "We begin by importing the necessary libraries and classes."
   ]
  },
  {
   "cell_type": "code",
   "execution_count": null,
   "id": "13b994f1-dac5-4be9-a727-633cd1173530",
   "metadata": {},
   "outputs": [],
   "source": [
    "import os\n",
    "%matplotlib widget\n",
    "import matplotlib.pyplot as plt\n",
    "from mimik.killweb import Killweb"
   ]
  },
  {
   "cell_type": "markdown",
   "id": "88864cd4-08a1-4187-8e71-e1be8241e74d",
   "metadata": {},
   "source": [
    "### Data Loading"
   ]
  },
  {
   "cell_type": "code",
   "execution_count": null,
   "id": "7905ec30-ddc8-454e-a142-ae0635bc368b",
   "metadata": {},
   "outputs": [],
   "source": [
    "config_file = os.path.join(os.getcwd(), \"configs\", \"top_gun_maverick_config.json\")"
   ]
  },
  {
   "cell_type": "markdown",
   "id": "10f6eb14-4032-4f14-a504-2aed27972f94",
   "metadata": {},
   "source": [
    "## Component Level Killwebs\n",
    "\n"
   ]
  },
  {
   "cell_type": "markdown",
   "id": "a175f276-5d2a-4523-b125-bb11afdf8ccf",
   "metadata": {},
   "source": [
    "### Creating the Killweb\n",
    "\n"
   ]
  },
  {
   "cell_type": "code",
   "execution_count": null,
   "id": "a9668514-bf5e-4078-b64b-693102bbae90",
   "metadata": {},
   "outputs": [],
   "source": [
    "killweb = Killweb(config_file=config_file, silent=True)\n",
    "for node in killweb.component_graph.nodes:\n",
    "    component = killweb.component_graph.nodes[node][\"component\"]\n",
    "    print(\"Component: %s has associated task, %s.\" % (component.full_name, component.task.task_name))"
   ]
  },
  {
   "cell_type": "markdown",
   "id": "39420871-221c-48c1-82c7-031b96feb566",
   "metadata": {},
   "source": [
    "Here we can see our whole list of components and their associated tasks. 11 different components are available for completing this missions 5 different tasks."
   ]
  },
  {
   "cell_type": "markdown",
   "id": "783eb75c-75a4-4640-9213-f7548cb207b9",
   "metadata": {},
   "source": [
    "### Visualizing the Component Graph with NetworkX\n",
    "\n"
   ]
  },
  {
   "cell_type": "code",
   "execution_count": null,
   "id": "fbc3c4ac-7514-4a0a-963a-e799b198c8c7",
   "metadata": {},
   "outputs": [],
   "source": [
    "killweb.create_component_networkx_visualization();"
   ]
  },
  {
   "cell_type": "markdown",
   "id": "d1682fd3",
   "metadata": {},
   "source": [
    "### Analyzing the Component Graph with Respect to Our Mission\n",
    "\n",
    "These graphs appear to be much more structured than the previous long range strikes exemplar. That is due to this graph being symmetrical in nature. The radar is compatible with each of the first pair of Daggers' targeting system, the first missles all lead to each of the latter pairs' targeting system, and the second pair of missles conclude the mission. At a first glance, this killweb seems relatively robust. There is a lot of compatibility throughout the web, but further analysis shows a different story."
   ]
  },
  {
   "cell_type": "markdown",
   "id": "9eabf613-2ccc-4b2b-a2c6-9eac4fb8772a",
   "metadata": {},
   "source": [
    "## Analyzing Killweb Probability\n",
    "### Getting All Paths Within the Killweb"
   ]
  },
  {
   "cell_type": "code",
   "execution_count": null,
   "id": "30c096d9-b9b4-463f-b3d2-67ea11060951",
   "metadata": {},
   "outputs": [],
   "source": [
    "killweb.print_all_paths_in_killweb()"
   ]
  },
  {
   "cell_type": "markdown",
   "id": "e03273be-8a33-48bb-8745-1073bda124b7",
   "metadata": {},
   "source": [
    "### Monte Carlo Simulation of Paths"
   ]
  },
  {
   "cell_type": "code",
   "execution_count": null,
   "id": "9dfc6280-d444-472b-9a0a-757695503228",
   "metadata": {},
   "outputs": [],
   "source": [
    "killweb.monte_carlo_on_paths(10000)\n",
    "killweb.print_probabilities_of_paths()"
   ]
  },
  {
   "cell_type": "markdown",
   "id": "1b834409-f40d-42ed-84b5-be279dab905c",
   "metadata": {},
   "source": [
    "Here we can see each available path through the killweb alongside its probability. The 10 paths with the highest probability are listed, but the other paths all have a probability of success < 1%. It is notable that the first path has a success probability of 0.72 and the second highest path showing a success probability of 0.32. The specific path of 'Radar', 'WSO_Targeting_Pod_2', 'PGB_1', 'WSO_Targeting_Pod_4', 'PGB_3' is the only path with a probability greater than 0.5. Within the other 15 paths, only 3 have a probability greater than 10%!"
   ]
  },
  {
   "cell_type": "code",
   "execution_count": null,
   "id": "b4cd699c-3e62-4409-8c4f-94ea967eb352",
   "metadata": {},
   "outputs": [],
   "source": [
    "path_to_test = [\"Radar\", \"WSO_Targeting_Pod_2\", \"PGB_1\", \"WSO_Targeting_Pod_4\", \"PGB_3\"]\n",
    "killweb.print_proportion_complete(path_to_test)\n",
    "killweb.print_average_number_of_successes(path_to_test)\n",
    "killweb.plot_monte_carlo_distribution(path_to_test)"
   ]
  },
  {
   "cell_type": "code",
   "execution_count": null,
   "id": "546c9192-5ae6-4e28-8f0b-078a0a9dbcc2",
   "metadata": {},
   "outputs": [],
   "source": [
    "path_to_test = [\"Radar\", \"WSO_Targeting_Pod_2\", \"PGB_2\", \"Manual_Targeting_3\", \"PGB_3\"]\n",
    "killweb.print_proportion_complete(path_to_test)\n",
    "killweb.print_average_number_of_successes(path_to_test)\n",
    "killweb.plot_monte_carlo_distribution(path_to_test)"
   ]
  },
  {
   "cell_type": "markdown",
   "id": "eaeeda06-4884-4d37-a4a8-eecdc2564b8f",
   "metadata": {},
   "source": [
    "Further explore the path that is most likely to succeed, we see that each component has a relatively high probability of success with values between 0.80 and 1.0. This results in a steady decrease in the success probability of the kill chain as a whole.\n",
    "\n",
    "Alternatively, as soon as any manual targeting or secondary weapons are involved, the probability of success decreases drastically. This steep degredation is primarily due to these components having a success probability ~0.1 - 0.2 and 0.2 - 0.3 respectively. Ensuring that backup weaponry is fully operable and that pilots are better prepared for scenarios of manual targeting can vastly improve the success probability of the chains they are involved in, and thus improve the success probability of the killweb as a whole."
   ]
  },
  {
   "cell_type": "markdown",
   "id": "5520b174-519e-48d3-8855-a59365998e95",
   "metadata": {},
   "source": [
    "### Component Centrality"
   ]
  },
  {
   "cell_type": "code",
   "execution_count": null,
   "id": "051c3f4a",
   "metadata": {},
   "outputs": [],
   "source": [
    "killweb.calculate_node_centrality()"
   ]
  },
  {
   "cell_type": "markdown",
   "id": "8d9f8aef",
   "metadata": {},
   "source": [
    "* Radar has an out-degree of 3, while the 3 components used for \"Targeting Bunker Door\" have an in-degree of 1.\n",
    "    This shows that while the Radar is likely to succeed, the mission becomes very high risk if the radar is negatively impacted, and impossible if it doesn't exist.\n",
    "* Each of the Manual Targeting systems have an out-degree of 1.\n",
    "    This means that each of the manual targeting systems can only interact with weaponry within the same system. Therefore, if something were to happen to the targeting pod, there is no way for the WSO, or the latter Dagger unit as a whole, to assist the primary Dagger unit.\n",
    "* Radar is not found within the in-degree centrality list while PGB_3 and PGB_4 are not found in out-degree centrality list as they are associated with the first and last components"
   ]
  }
 ],
 "metadata": {
  "kernelspec": {
   "display_name": "Python 3 (ipykernel)",
   "language": "python",
   "name": "python3"
  },
  "language_info": {
   "codemirror_mode": {
    "name": "ipython",
    "version": 3
   },
   "file_extension": ".py",
   "mimetype": "text/x-python",
   "name": "python",
   "nbconvert_exporter": "python",
   "pygments_lexer": "ipython3",
   "version": "3.11.0"
  }
 },
 "nbformat": 4,
 "nbformat_minor": 5
}
